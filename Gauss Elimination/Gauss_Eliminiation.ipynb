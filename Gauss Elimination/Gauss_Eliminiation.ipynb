{
 "cells": [
  {
   "cell_type": "code",
   "execution_count": 1,
   "id": "f49ace82-c92e-4153-b77e-b36556353561",
   "metadata": {},
   "outputs": [
    {
     "name": "stdin",
     "output_type": "stream",
     "text": [
      "Enter the number of equations:  3\n"
     ]
    },
    {
     "name": "stdout",
     "output_type": "stream",
     "text": [
      "Enter the augmented matrix row by row (each element separated by space):\n"
     ]
    },
    {
     "name": "stdin",
     "output_type": "stream",
     "text": [
      "Row 1:  2 3 1 1\n",
      "Row 2:  4 1 2 2\n",
      "Row 3:  3 2 3 3\n"
     ]
    },
    {
     "name": "stdout",
     "output_type": "stream",
     "text": [
      "Solution: [0. 0. 1.]\n"
     ]
    }
   ],
   "source": [
    "import numpy as np\n",
    "\n",
    "def gauss_elimination(matrix):\n",
    "    n = len(matrix)\n",
    "    \n",
    "    # Forward elimination\n",
    "    for i in range(n):\n",
    "        # Partial pivoting\n",
    "        max_row = i + np.argmax(np.abs(matrix[i:, i]))\n",
    "        if i != max_row:\n",
    "            matrix[[i, max_row]] = matrix[[max_row, i]]\n",
    "        \n",
    "        for j in range(i + 1, n):\n",
    "            factor = matrix[j][i] / matrix[i][i]\n",
    "            matrix[j] = matrix[j] - factor * matrix[i]\n",
    "    \n",
    "    # Back substitution\n",
    "    solution = np.zeros(n)\n",
    "    for i in range(n - 1, -1, -1):\n",
    "        solution[i] = (matrix[i][-1] - np.dot(matrix[i][i + 1:n], solution[i + 1:n])) / matrix[i][i]\n",
    "    \n",
    "    return solution\n",
    "\n",
    "def main():\n",
    "    # Input the number of equations\n",
    "    n = int(input(\"Enter the number of equations: \"))\n",
    "    \n",
    "    # Initialize the augmented matrix\n",
    "    print(\"Enter the augmented matrix row by row (each element separated by space):\")\n",
    "    augmented_matrix = []\n",
    "    for i in range(n):\n",
    "        row = list(map(float, input(f\"Row {i + 1}: \").strip().split()))\n",
    "        augmented_matrix.append(row)\n",
    "    \n",
    "    augmented_matrix = np.array(augmented_matrix, dtype=float)\n",
    "\n",
    "    # Calculate the solution\n",
    "    solution = gauss_elimination(augmented_matrix)\n",
    "    \n",
    "    # Print the solution\n",
    "    print(\"Solution:\", solution)\n",
    "\n",
    "if __name__ == \"__main__\":\n",
    "    main()\n"
   ]
  },
  {
   "cell_type": "code",
   "execution_count": null,
   "id": "1f176a85-b65c-4fe1-a849-d325d5e14594",
   "metadata": {},
   "outputs": [],
   "source": []
  }
 ],
 "metadata": {
  "kernelspec": {
   "display_name": "Python 3 (ipykernel)",
   "language": "python",
   "name": "python3"
  },
  "language_info": {
   "codemirror_mode": {
    "name": "ipython",
    "version": 3
   },
   "file_extension": ".py",
   "mimetype": "text/x-python",
   "name": "python",
   "nbconvert_exporter": "python",
   "pygments_lexer": "ipython3",
   "version": "3.12.1"
  }
 },
 "nbformat": 4,
 "nbformat_minor": 5
}

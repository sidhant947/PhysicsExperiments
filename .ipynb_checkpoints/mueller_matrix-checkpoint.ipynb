{
 "cells": [
  {
   "cell_type": "code",
   "execution_count": 4,
   "metadata": {},
   "outputs": [
    {
     "name": "stdout",
     "output_type": "stream",
     "text": [
      "[[ 2.82842712e+00  2.82842712e+00 -1.00000000e+00  6.12323400e-17]\n",
      " [ 2.82842712e+00  2.82842712e+00  1.00000000e+00 -6.12323400e-17]\n",
      " [-1.00000000e+00  1.00000000e+00  2.82842712e+00 -6.12323400e-17]\n",
      " [ 6.12323400e-17 -6.12323400e-17 -6.12323400e-17  2.82842712e+00]]\n"
     ]
    }
   ],
   "source": [
    "import numpy as np\n",
    "\n",
    "input_theta = int(input(\"Enter theta\"))\n",
    "input_phi = int(input(\"Enter phi\"))\n",
    "input_delta = int(input(\"Enter delta\"))\n",
    "\n",
    "\n",
    "\n",
    "def mueller_matrix(theta, phi, delta):\n",
    "    \"\"\"\n",
    "    Calculates the Mueller matrix of a waveplate or polarizer.\n",
    "\n",
    "    Args:\n",
    "        theta (float): The angle of the fast axis (or transmission axis) relative to the x-axis.\n",
    "        phi (float): The phase retardation (in radians) introduced by the waveplate.\n",
    "        delta (float): The extinction ratio of the polarizer (ratio of maximum to minimum transmittance).\n",
    "\n",
    "    Returns:\n",
    "        np.ndarray: The 4x4 Mueller matrix.\n",
    "    \"\"\"\n",
    "\n",
    "    cos_theta = np.cos(theta)\n",
    "    sin_theta = np.sin(theta)\n",
    "    cos_phi = np.cos(phi)\n",
    "    sin_phi = np.sin(phi)\n",
    "    cos_delta = np.cos(delta)\n",
    "    sin_delta = np.sin(delta)\n",
    "\n",
    "    # Calculate the Mueller matrix elements\n",
    "    M11 = cos_theta*2 * cos_phi*2 + sin_theta*2 * sin_phi*2\n",
    "    M12 = cos_theta*2 * sin_phi*2 + sin_theta*2 * cos_phi*2\n",
    "    M13 = cos_theta * sin_theta * (cos_phi*2 - sin_phi*2)\n",
    "    M14 = cos_theta * sin_theta * 2 * cos_phi * sin_phi\n",
    "    M21 = M12\n",
    "    M22 = M11\n",
    "    M23 = -M13\n",
    "    M24 = -M14\n",
    "    M31 = M13\n",
    "    M32 = -M13\n",
    "    M33 = cos_theta*2 * sin_phi*2 + sin_theta*2 * cos_phi*2\n",
    "    M34 = -cos_theta * sin_theta * 2 * cos_phi * sin_phi\n",
    "    M41 = M14\n",
    "    M42 = -M14\n",
    "    M43 = M34\n",
    "    M44 = cos_theta*2 * cos_phi*2 + sin_theta*2 * sin_phi*2\n",
    "\n",
    "    # Construct the Mueller matrix\n",
    "    M = np.array([[M11, M12, M13, M14],\n",
    "                   [M21, M22, M23, M24],\n",
    "                   [M31, M32, M33, M34],\n",
    "                   [M41, M42, M43, M44]])\n",
    "\n",
    "    return M\n",
    "\n",
    "# Example usage\n",
    "theta = np.pi / input_theta  # 45 degrees\n",
    "phi = np.pi / input_phi  # 90 degrees\n",
    "delta = input_delta*1e-6  # Small extinction ratio for a polarizer\n",
    "\n",
    "mueller_matrix = mueller_matrix(theta, phi, delta)\n",
    "print(mueller_matrix)"
   ]
  }
 ],
 "metadata": {
  "kernelspec": {
   "display_name": "Python 3",
   "language": "python",
   "name": "python3"
  },
  "language_info": {
   "codemirror_mode": {
    "name": "ipython",
    "version": 3
   },
   "file_extension": ".py",
   "mimetype": "text/x-python",
   "name": "python",
   "nbconvert_exporter": "python",
   "pygments_lexer": "ipython3",
   "version": "3.12.1"
  }
 },
 "nbformat": 4,
 "nbformat_minor": 2
}
